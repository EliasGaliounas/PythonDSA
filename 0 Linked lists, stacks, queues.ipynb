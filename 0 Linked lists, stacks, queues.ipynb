{
 "cells": [
  {
   "cell_type": "markdown",
   "metadata": {},
   "source": [
    "# Following this guide: <br>\n",
    "https://www.geeksforgeeks.org/python-data-structures/\n"
   ]
  },
  {
   "cell_type": "markdown",
   "metadata": {},
   "source": [
    "### Set <br>\n",
    "An unordered collection of data that is mutable and does not allow any duplicate element. Sets are basically used to include membership testing and eliminating duplicate entries. The data structure used in this is Hashing, a popular technique to perform insertion, deletion, and traversal in O(1) on average. "
   ]
  },
  {
   "cell_type": "code",
   "execution_count": null,
   "metadata": {},
   "outputs": [
    {
     "name": "stdout",
     "output_type": "stream",
     "text": [
      "Set with the use of Mixed Values\n",
      "{'For', 1, 2, 4, 6, 'Geeks'}\n",
      "\n",
      "Elements of set: \n",
      "For 1 2 4 6 Geeks \n",
      "True\n"
     ]
    }
   ],
   "source": [
    "# Creating a Set with  \n",
    "# a mixed type of values \n",
    "# (Having numbers and strings) \n",
    "Set = set([1, 2, 'Geeks', 4, 'For', 6, 'Geeks']) \n",
    "print(\"Set with the use of Mixed Values\") \n",
    "print(Set) \n",
    "\n",
    "# Accessing element using \n",
    "# for loop \n",
    "print(\"\\nElements of set: \") \n",
    "for i in Set: \n",
    "    print(i, end =\" \") \n",
    "print()\n",
    "\n",
    "# Checking the element \n",
    "# using in keyword \n",
    "print(\"Geeks\" in Set)"
   ]
  },
  {
   "cell_type": "markdown",
   "metadata": {},
   "source": [
    "### Frozen set <br>\n",
    "Immutable set."
   ]
  },
  {
   "cell_type": "code",
   "execution_count": 3,
   "metadata": {},
   "outputs": [
    {
     "name": "stdout",
     "output_type": "stream",
     "text": [
      "Normal Set\n",
      "{'a', 'b', 'c'}\n",
      "\n",
      "Frozen Set\n",
      "frozenset({'g', 'f', 'e'})\n"
     ]
    }
   ],
   "source": [
    "# Same as {\"a\", \"b\",\"c\"}\n",
    "normal_set = set([\"a\", \"b\",\"c\"])\n",
    "\n",
    "print(\"Normal Set\")\n",
    "print(normal_set)\n",
    "\n",
    "# A frozen set\n",
    "frozen_set = frozenset([\"e\", \"f\", \"g\"])\n",
    "\n",
    "print(\"\\nFrozen Set\")\n",
    "print(frozen_set)\n",
    "\n",
    "# Uncommenting below line would cause error as\n",
    "# we are trying to add element to a frozen set\n",
    "# frozen_set.add(\"h\")"
   ]
  },
  {
   "attachments": {
    "image.png": {
     "image/png": "[encoded data removed]"
    }
   },
   "cell_type": "markdown",
   "metadata": {},
   "source": [
    "### Linked List <br>\n",
    "A linked list is a linear data structure, in which the elements are not stored at contiguous memory locations. The elements in a linked list are linked using pointers. <br>\n",
    "![image.png](attachment:image.png) <br>\n",
    "The first node is called the head. If the linked list is empty, then the value of the head is NULL. Each node in a list consists of at least two parts:<br>\n",
    "* Data\n",
    "* Pointer (Or Reference) to the next node"
   ]
  },
  {
   "cell_type": "code",
   "execution_count": 1,
   "metadata": {},
   "outputs": [],
   "source": [
    "# A simple Python program to introduce a linked list\n",
    "\n",
    "# Node class\n",
    "class Node:\n",
    "\n",
    "    # Function to initialise the node object\n",
    "    def __init__(self, data):\n",
    "        self.data = data # Assign data\n",
    "        self.next = None # Initialize next as null\n",
    "\n",
    "\n",
    "# Linked List class contains a Node object\n",
    "class LinkedList:\n",
    "\n",
    "    # Function to initialize head\n",
    "    def __init__(self):\n",
    "        self.head = None\n",
    "\n",
    "\n",
    "# Code execution starts here\n",
    "if __name__=='__main__':\n",
    "\n",
    "    # Start with the empty list\n",
    "    list = LinkedList()\n",
    "\n",
    "    list.head = Node(1)\n",
    "    second = Node(2)\n",
    "    third = Node(3)\n",
    "\n",
    "    '''\n",
    "    Three nodes have been created.\n",
    "    We have references to these three blocks as head,\n",
    "    second and third\n",
    "\n",
    "    list.head     second             third\n",
    "        |             |                 |\n",
    "        |             |                 |\n",
    "    +----+------+     +----+------+     +----+------+\n",
    "    | 1 | None |     | 2 | None |     | 3 | None |\n",
    "    +----+------+     +----+------+     +----+------+\n",
    "    '''\n",
    "\n",
    "    list.head.next = second; # Link first node with second\n",
    "\n",
    "    '''\n",
    "    Now next of first Node refers to second. So they\n",
    "    both are linked.\n",
    "\n",
    "    list.head     second             third\n",
    "        |             |                 |\n",
    "        |             |                 |\n",
    "    +----+------+     +----+------+     +----+------+\n",
    "    | 1 | o-------->| 2 | null |     | 3 | null |\n",
    "    +----+------+     +----+------+     +----+------+\n",
    "    '''\n",
    "\n",
    "    second.next = third; # Link second node with the third node\n",
    "\n",
    "    '''\n",
    "    Now next of second Node refers to third. So all three\n",
    "    nodes are linked.\n",
    "\n",
    "    list.head     second             third\n",
    "        |             |                 |\n",
    "        |             |                 |\n",
    "    +----+------+     +----+------+     +----+------+\n",
    "    | 1 | o-------->| 2 | o-------->| 3 | null |\n",
    "    +----+------+     +----+------+     +----+------+\n",
    "    '''"
   ]
  },
  {
   "cell_type": "markdown",
   "metadata": {},
   "source": [
    "### Linked List Traversal <br>\n",
    "For traversal, let us write a general-purpose function printList() that prints any given list."
   ]
  },
  {
   "cell_type": "code",
   "execution_count": 2,
   "metadata": {},
   "outputs": [
    {
     "name": "stdout",
     "output_type": "stream",
     "text": [
      "1\n",
      "2\n",
      "3\n"
     ]
    }
   ],
   "source": [
    "# A simple Python program for traversal of a linked list\n",
    "\n",
    "# Node class\n",
    "class Node:\n",
    "\n",
    "    # Function to initialise the node object\n",
    "    def __init__(self, data):\n",
    "        self.data = data # Assign data\n",
    "        self.next = None # Initialize next as null\n",
    "\n",
    "\n",
    "# Linked List class contains a Node object\n",
    "class LinkedList:\n",
    "\n",
    "    # Function to initialize head\n",
    "    def __init__(self):\n",
    "        self.head = None\n",
    "\n",
    "    # This function prints contents of linked list\n",
    "    # starting from head\n",
    "    def printList(self):\n",
    "        temp = self.head\n",
    "        while (temp): # Evaluates as true if temp is not None\n",
    "            print (temp.data)\n",
    "            temp = temp.next\n",
    "\n",
    "\n",
    "# Code execution starts here\n",
    "if __name__=='__main__':\n",
    "\n",
    "    # Start with the empty list\n",
    "    list = LinkedList()\n",
    "\n",
    "    list.head = Node(1)\n",
    "    second = Node(2)\n",
    "    third = Node(3)\n",
    "\n",
    "    list.head.next = second; # Link first node with second\n",
    "    second.next = third; # Link second node with the third node\n",
    "\n",
    "    list.printList()"
   ]
  },
  {
   "attachments": {
    "image.png": {
     "image/png": "[encoded data removed]"
    }
   },
   "cell_type": "markdown",
   "metadata": {},
   "source": [
    "### Stack <br>\n",
    "A stack is a linear data structure that stores items in a Last-In/First-Out (LIFO) or First-In/Last-Out (FILO) manner. In stack, a new element is added at one end and an element is removed from that end only. The insert and delete operations are often called push and pop. <br>\n",
    "![image.png](attachment:image.png)"
   ]
  },
  {
   "cell_type": "markdown",
   "metadata": {},
   "source": [
    "The functions associated with stack are:<br>\n",
    "* empty() – Returns whether the stack is empty – Time Complexity: O(1)\n",
    "* size() – Returns the size of the stack – Time Complexity: O(1)\n",
    "* top() – Returns a reference to the topmost element of the stack – Time Complexity: O(1)\n",
    "* push(a) – Inserts the element ‘a’ at the top of the stack – Time Complexity: O(1)\n",
    "* pop() – Deletes the topmost element of the stack – Time Complexity: O(1)"
   ]
  },
  {
   "cell_type": "markdown",
   "metadata": {},
   "source": [
    "Stack in Python can be implemented using the following ways: <br>\n",
    "* list\n",
    "* Collections.deque\n",
    "* queue.LifoQueue"
   ]
  },
  {
   "cell_type": "markdown",
   "metadata": {},
   "source": [
    "### Stack implementation using List: <br>\n",
    "Instead of push(), append() is used to add elements to the top of the stack while pop() removes the element in LIFO order."
   ]
  },
  {
   "cell_type": "code",
   "execution_count": 3,
   "metadata": {},
   "outputs": [
    {
     "name": "stdout",
     "output_type": "stream",
     "text": [
      "Initial stack\n",
      "['g', 'f', 'g']\n",
      "\n",
      "Elements popped from stack:\n",
      "g\n",
      "f\n",
      "g\n",
      "\n",
      "Stack after elements are popped:\n",
      "[]\n"
     ]
    }
   ],
   "source": [
    "stack = []\n",
    "\n",
    "# append() function to push\n",
    "# element in the stack\n",
    "stack.append('g')\n",
    "stack.append('f')\n",
    "stack.append('g')\n",
    "\n",
    "print('Initial stack')\n",
    "print(stack)\n",
    "\n",
    "# pop() function to pop\n",
    "# element from stack in\n",
    "# LIFO order\n",
    "print('\\nElements popped from stack:')\n",
    "print(stack.pop())\n",
    "print(stack.pop())\n",
    "print(stack.pop())\n",
    "\n",
    "print('\\nStack after elements are popped:')\n",
    "print(stack)\n",
    "\n",
    "# uncommenting print(stack.pop())\n",
    "# will cause an IndexError\n",
    "# as the stack is now empty"
   ]
  },
  {
   "cell_type": "markdown",
   "metadata": {},
   "source": [
    "### Stack implementation using collections.deque: <br>\n",
    "Deque is preferred over the list in the cases where we need quicker append and pop operations from both the ends of the container, as deque provides an O(1) time complexity for append and pop operations as compared to list which provides O(n) time complexity. "
   ]
  },
  {
   "cell_type": "code",
   "execution_count": 4,
   "metadata": {},
   "outputs": [
    {
     "name": "stdout",
     "output_type": "stream",
     "text": [
      "Initial stack:\n",
      "deque(['g', 'f', 'g'])\n",
      "\n",
      "Elements popped from stack:\n",
      "g\n",
      "f\n",
      "g\n",
      "\n",
      "Stack after elements are popped:\n",
      "deque([])\n"
     ]
    }
   ],
   "source": [
    "from collections import deque\n",
    "\n",
    "stack = deque()\n",
    "\n",
    "# append() function to push\n",
    "# element in the stack\n",
    "stack.append('g')\n",
    "stack.append('f')\n",
    "stack.append('g')\n",
    "\n",
    "print('Initial stack:')\n",
    "print(stack)\n",
    "\n",
    "# pop() function to pop\n",
    "# element from stack in\n",
    "# LIFO order\n",
    "print('\\nElements popped from stack:')\n",
    "print(stack.pop())\n",
    "print(stack.pop())\n",
    "print(stack.pop())\n",
    "\n",
    "print('\\nStack after elements are popped:')\n",
    "print(stack)\n",
    "\n",
    "# uncommenting print(stack.pop())\n",
    "# will cause an IndexError\n",
    "# as the stack is now empty"
   ]
  },
  {
   "cell_type": "markdown",
   "metadata": {},
   "source": [
    "### Stack implementation using queue module: <br>\n",
    "The queue module also has a LIFO Queue, which is basically a Stack. Data is inserted into Queue using the put() function and get() takes data out from the Queue."
   ]
  },
  {
   "cell_type": "code",
   "execution_count": 5,
   "metadata": {},
   "outputs": [
    {
     "name": "stdout",
     "output_type": "stream",
     "text": [
      "0\n",
      "Full:  True\n",
      "Size:  3\n",
      "\n",
      "Elements popped from the stack\n",
      "g\n",
      "f\n",
      "g\n",
      "\n",
      "Empty:  True\n"
     ]
    }
   ],
   "source": [
    "from queue import LifoQueue\n",
    "\n",
    "# Initializing a stack\n",
    "stack = LifoQueue(maxsize = 3)\n",
    "\n",
    "# qsize() show the number of elements\n",
    "# in the stack\n",
    "print(stack.qsize())\n",
    "\n",
    "# put() function to push\n",
    "# element in the stack\n",
    "stack.put('g')\n",
    "stack.put('f')\n",
    "stack.put('g')\n",
    "\n",
    "print(\"Full: \", stack.full())\n",
    "print(\"Size: \", stack.qsize())\n",
    "\n",
    "# get() function to pop\n",
    "# element from stack in\n",
    "# LIFO order\n",
    "print('\\nElements popped from the stack')\n",
    "print(stack.get())\n",
    "print(stack.get())\n",
    "print(stack.get())\n",
    "\n",
    "print(\"\\nEmpty: \", stack.empty())"
   ]
  },
  {
   "attachments": {
    "image.png": {
     "image/png": "[encoded data removed]"
    }
   },
   "cell_type": "markdown",
   "metadata": {},
   "source": [
    "### Queue <br>\n",
    "The queue is a linear data structure that stores items in a First In First Out (FIFO) manner. A good example of the queue is any queue of consumers for a resource where the consumer that came first is served first. <br>\n",
    "![image.png](attachment:image.png)"
   ]
  },
  {
   "cell_type": "markdown",
   "metadata": {},
   "source": [
    "Operations associated with queue are:\n",
    "* Enqueue: Adds an item to the queue. If the queue is full, then it is said to be an Overflow condition – Time Complexity: O(1)\n",
    "* Dequeue: Removes an item from the queue. The items are popped in the same order in which they are pushed. If the queue is empty, then it is said to be an Underflow condition – Time Complexity: O(1)\n",
    "* Front: Get the front item from queue – Time Complexity: O(1)\n",
    "* Rear: Get the last item from queue – Time Complexity: O(1)"
   ]
  },
  {
   "cell_type": "markdown",
   "metadata": {},
   "source": [
    "Queue in Python can be implemented in the following ways: <br>\n",
    "* list\n",
    "* collections.deque\n",
    "* queue.Queue"
   ]
  },
  {
   "cell_type": "markdown",
   "metadata": {},
   "source": [
    "### Queue implementation using list <br>\n",
    "Instead of enqueue() and dequeue(), append() and pop() function is used."
   ]
  },
  {
   "cell_type": "code",
   "execution_count": null,
   "metadata": {},
   "outputs": [],
   "source": [
    "# Initializing a queue\n",
    "queue = []\n",
    "\n",
    "# Adding elements to the queue\n",
    "queue.append('g')\n",
    "queue.append('f')\n",
    "queue.append('g')\n",
    "\n",
    "print(\"Initial queue\")\n",
    "print(queue)\n",
    "\n",
    "# Removing elements from the queue\n",
    "print(\"\\nElements dequeued from queue\")\n",
    "print(queue.pop(0)) # --> In the stack we just did pop(). For the queue we do pop(0)\n",
    "print(queue.pop(0))\n",
    "print(queue.pop(0))\n",
    "\n",
    "print(\"\\nQueue after removing elements\")\n",
    "print(queue)\n",
    "\n",
    "# Uncommenting print(queue.pop(0))\n",
    "# will raise and IndexError\n",
    "# as the queue is now empty"
   ]
  },
  {
   "cell_type": "markdown",
   "metadata": {},
   "source": [
    "### Queue implementation using collections.deque <br>\n",
    "Deque is preferred over the list in the cases where we need quicker append and pop operations from both the ends of the container, as deque provides an O(1) time complexity for append and pop operations as compared to list which provides O(n) time complexity."
   ]
  },
  {
   "cell_type": "code",
   "execution_count": 6,
   "metadata": {},
   "outputs": [
    {
     "name": "stdout",
     "output_type": "stream",
     "text": [
      "Initial queue\n",
      "deque(['g', 'f', 'g'])\n",
      "\n",
      "Elements dequeued from the queue\n",
      "g\n",
      "f\n",
      "g\n",
      "\n",
      "Queue after removing elements\n",
      "deque([])\n"
     ]
    }
   ],
   "source": [
    "from collections import deque\n",
    "\n",
    "# Initializing a queue\n",
    "q = deque()\n",
    "\n",
    "# Adding elements to a queue\n",
    "q.append('g')\n",
    "q.append('f')\n",
    "q.append('g')\n",
    "\n",
    "print(\"Initial queue\")\n",
    "print(q)\n",
    "\n",
    "# Removing elements from a queue\n",
    "print(\"\\nElements dequeued from the queue\")\n",
    "print(q.popleft())\n",
    "print(q.popleft())\n",
    "print(q.popleft())\n",
    "\n",
    "print(\"\\nQueue after removing elements\")\n",
    "print(q)\n",
    "\n",
    "# Uncommenting q.popleft()\n",
    "# will raise an IndexError\n",
    "# as queue is now empty"
   ]
  },
  {
   "cell_type": "markdown",
   "metadata": {},
   "source": [
    "### Queue implementation using the queue.Queue <br>\n",
    "queue.Queue(maxsize) initializes a variable to a maximum size of maxsize. A maxsize of zero ‘0’ means an infinite queue. This Queue follows the FIFO rule. "
   ]
  },
  {
   "cell_type": "code",
   "execution_count": 7,
   "metadata": {},
   "outputs": [
    {
     "name": "stdout",
     "output_type": "stream",
     "text": [
      "0\n",
      "\n",
      "Full:  True\n",
      "\n",
      "Elements dequeued from the queue\n",
      "g\n",
      "f\n",
      "g\n",
      "\n",
      "Empty:  True\n",
      "\n",
      "Empty:  False\n",
      "Full:  False\n"
     ]
    }
   ],
   "source": [
    "from queue import Queue\n",
    "\n",
    "# Initializing a queue\n",
    "q = Queue(maxsize = 3)\n",
    "\n",
    "# qsize() give the maxsize\n",
    "# of the Queue\n",
    "print(q.qsize())\n",
    "\n",
    "# Adding of element to queue\n",
    "q.put('g')\n",
    "q.put('f')\n",
    "q.put('g')\n",
    "\n",
    "# Return Boolean for Full\n",
    "# Queue\n",
    "print(\"\\nFull: \", q.full())\n",
    "\n",
    "# Removing element from queue\n",
    "print(\"\\nElements dequeued from the queue\")\n",
    "print(q.get())\n",
    "print(q.get())\n",
    "print(q.get())\n",
    "\n",
    "# Return Boolean for Empty\n",
    "# Queue\n",
    "print(\"\\nEmpty: \", q.empty())\n",
    "\n",
    "q.put(1)\n",
    "print(\"\\nEmpty: \", q.empty())\n",
    "print(\"Full: \", q.full())\n",
    "\n",
    "# This would result into Infinite\n",
    "# Loop as the Queue is empty.\n",
    "# print(q.get())"
   ]
  },
  {
   "cell_type": "markdown",
   "metadata": {},
   "source": [
    "### Priority Queue <br>\n",
    "Priority Queues are abstract data structures where each data/value in the queue has a certain priority. For example, In airlines, baggage with the title “Business” or “First-class” arrives earlier than the rest. Priority Queue is an extension of the queue with the following properties.\n",
    "* An element with high priority is dequeued before an element with low priority.\n",
    "* If two elements have the same priority, they are served according to their order in the queue."
   ]
  },
  {
   "cell_type": "markdown",
   "metadata": {},
   "source": [
    "Various applications of the Priority queue in Computer Science are:<br>\n",
    "Job Scheduling algorithms, CPU and Disk Scheduling, managing resources that are shared among different processes, etc."
   ]
  },
  {
   "cell_type": "markdown",
   "metadata": {},
   "source": [
    "Key differences between Priority Queue and Queue:<br>\n",
    "* In Queue, the oldest element is dequeued first. While, in Priority Queue, an element based on the highest priority is dequeued.\n",
    "* When elements are popped out of a priority queue the result obtained is either sorted in Increasing order or in Decreasing Order. While, when elements are popped from a simple queue, a FIFO order of data is obtained in the result."
   ]
  },
  {
   "cell_type": "code",
   "execution_count": 8,
   "metadata": {},
   "outputs": [
    {
     "name": "stdout",
     "output_type": "stream",
     "text": [
      "12 1 14 7\n",
      "14\n",
      "12\n",
      "7\n",
      "1\n"
     ]
    }
   ],
   "source": [
    "# A simple implementation of Priority Queue\n",
    "# using Queue.\n",
    "class PriorityQueue(object):\n",
    "    def __init__(self):\n",
    "        self.queue = []\n",
    " \n",
    "    def __str__(self):\n",
    "        return ' '.join([str(i) for i in self.queue])\n",
    " \n",
    "    # for checking if the queue is empty\n",
    "    def isEmpty(self):\n",
    "        return len(self.queue) == 0\n",
    " \n",
    "    # for inserting an element in the queue\n",
    "    def insert(self, data):\n",
    "        self.queue.append(data)\n",
    " \n",
    "    # for popping an element based on Priority\n",
    "    def delete(self):\n",
    "        try:\n",
    "            max_val = 0\n",
    "            for i in range(len(self.queue)):\n",
    "                if self.queue[i] > self.queue[max_val]:\n",
    "                    max_val = i\n",
    "            item = self.queue[max_val]\n",
    "            del self.queue[max_val]\n",
    "            return item\n",
    "        except IndexError:\n",
    "            print()\n",
    "            exit()\n",
    " \n",
    "if __name__ == '__main__':\n",
    "    myQueue = PriorityQueue()\n",
    "    myQueue.insert(12)\n",
    "    myQueue.insert(1)\n",
    "    myQueue.insert(14)\n",
    "    myQueue.insert(7)\n",
    "    print(myQueue)            \n",
    "    while not myQueue.isEmpty():\n",
    "        print(myQueue.delete()) "
   ]
  }
 ],
 "metadata": {
  "kernelspec": {
   "display_name": "base",
   "language": "python",
   "name": "python3"
  },
  "language_info": {
   "codemirror_mode": {
    "name": "ipython",
    "version": 3
   },
   "file_extension": ".py",
   "mimetype": "text/x-python",
   "name": "python",
   "nbconvert_exporter": "python",
   "pygments_lexer": "ipython3",
   "version": "3.9.12"
  }
 },
 "nbformat": 4,
 "nbformat_minor": 2
}
